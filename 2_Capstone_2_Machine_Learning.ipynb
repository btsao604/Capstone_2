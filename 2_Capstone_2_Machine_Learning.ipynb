{
 "cells": [
  {
   "cell_type": "markdown",
   "metadata": {},
   "source": [
    "<h3>Introduction</h3>\n",
    "\n",
    "We've complete our exploratory data analysis phase and now it is time to focus on the predictive modelling. We note that from our correlation matrix in our exploratory data analysis, we did not yield highly correlated features. Thus we do not have to worry about redundant features. If we did have a lot of highly correlated features, we would have to perform a feature reduction technique such as Principal Component Analysis. With this out of the way, let us start cleaning our data for predictive modelling.\n",
    "\n",
    "<h3>Data Cleaning</h3>"
   ]
  },
  {
   "cell_type": "code",
   "execution_count": 1,
   "metadata": {},
   "outputs": [],
   "source": [
    "#importing libraries\n",
    "import pandas as pd\n",
    "import numpy as np\n",
    "from scipy import stats\n",
    "import seaborn as sns\n",
    "import matplotlib.pyplot as plt\n",
    "from sklearn.model_selection import train_test_split, cross_val_score, GridSearchCV\n",
    "from sklearn.pipeline import Pipeline\n",
    "from sklearn.metrics import classification_report\n",
    "import pandas.core.algorithms as algos\n",
    "import plotly.graph_objs as go\n",
    "import plotly.offline as py\n",
    "from pandas import Series\n",
    "import scipy.stats.stats as stats\n",
    "import re\n",
    "import traceback\n",
    "import string"
   ]
  },
  {
   "cell_type": "code",
   "execution_count": 2,
   "metadata": {
    "scrolled": false
   },
   "outputs": [],
   "source": [
    "data = pd.read_csv('./Data/data.csv')"
   ]
  },
  {
   "cell_type": "code",
   "execution_count": 3,
   "metadata": {},
   "outputs": [],
   "source": [
    "# Define a dictionary for the target mapping\n",
    "target_map = {'Yes':1, 'No':0}\n",
    "# Use the pandas apply method to numerically encode our attrition target variable\n",
    "data[\"Attrition_numerical\"] = data[\"Attrition\"].apply(lambda x: target_map[x])"
   ]
  },
  {
   "cell_type": "markdown",
   "metadata": {},
   "source": [
    "<h4>Feature Engineering & Categorical Encoding</h4>\n",
    "As we have imported the libraries and data into our notebook, we will need to start feature engineering and encode our categorical data to be numerical for the predictve modelling algorithms to read the data.\n",
    "\n",
    "In order to split our data from numerical columns to categorical columns, we will split it using the dtype method per the below."
   ]
  },
  {
   "cell_type": "code",
   "execution_count": 4,
   "metadata": {},
   "outputs": [],
   "source": [
    "# Drop the Attrition_numerical column from attrition dataset first - Don't want to include that\n",
    "data = data.drop(['Attrition_numerical'], axis=1)\n",
    "\n",
    "# Empty list to store columns with categorical data\n",
    "categorical = []\n",
    "for col, value in data.iteritems():\n",
    "    if value.dtype == 'object':\n",
    "        categorical.append(col)\n",
    "\n",
    "# Store the numerical columns in a list numerical\n",
    "numerical = data.columns.difference(categorical)"
   ]
  },
  {
   "cell_type": "markdown",
   "metadata": {},
   "source": [
    "Having identified which of our features contain categorical data, we will split this data into only categorical variables. Afterwards, we will perform the pandas function \"get_dummies\" to create dummy variales"
   ]
  },
  {
   "cell_type": "code",
   "execution_count": 5,
   "metadata": {},
   "outputs": [],
   "source": [
    "# Store the categorical data in a dataframe called attrition_cat\n",
    "data_cat = data[categorical]\n",
    "data_cat = data.drop(['Attrition'], axis=1) # Dropping the target column"
   ]
  },
  {
   "cell_type": "code",
   "execution_count": 6,
   "metadata": {},
   "outputs": [
    {
     "data": {
      "text/html": [
       "<div>\n",
       "<style scoped>\n",
       "    .dataframe tbody tr th:only-of-type {\n",
       "        vertical-align: middle;\n",
       "    }\n",
       "\n",
       "    .dataframe tbody tr th {\n",
       "        vertical-align: top;\n",
       "    }\n",
       "\n",
       "    .dataframe thead th {\n",
       "        text-align: right;\n",
       "    }\n",
       "</style>\n",
       "<table border=\"1\" class=\"dataframe\">\n",
       "  <thead>\n",
       "    <tr style=\"text-align: right;\">\n",
       "      <th></th>\n",
       "      <th>Age</th>\n",
       "      <th>DailyRate</th>\n",
       "      <th>DistanceFromHome</th>\n",
       "      <th>Education</th>\n",
       "      <th>EmployeeCount</th>\n",
       "      <th>EmployeeNumber</th>\n",
       "      <th>EnvironmentSatisfaction</th>\n",
       "      <th>HourlyRate</th>\n",
       "      <th>JobInvolvement</th>\n",
       "      <th>JobLevel</th>\n",
       "      <th>...</th>\n",
       "      <th>JobRole_Research Director</th>\n",
       "      <th>JobRole_Research Scientist</th>\n",
       "      <th>JobRole_Sales Executive</th>\n",
       "      <th>JobRole_Sales Representative</th>\n",
       "      <th>MaritalStatus_Divorced</th>\n",
       "      <th>MaritalStatus_Married</th>\n",
       "      <th>MaritalStatus_Single</th>\n",
       "      <th>Over18_Y</th>\n",
       "      <th>OverTime_No</th>\n",
       "      <th>OverTime_Yes</th>\n",
       "    </tr>\n",
       "  </thead>\n",
       "  <tbody>\n",
       "    <tr>\n",
       "      <th>0</th>\n",
       "      <td>41</td>\n",
       "      <td>1102</td>\n",
       "      <td>1</td>\n",
       "      <td>2</td>\n",
       "      <td>1</td>\n",
       "      <td>1</td>\n",
       "      <td>2</td>\n",
       "      <td>94</td>\n",
       "      <td>3</td>\n",
       "      <td>2</td>\n",
       "      <td>...</td>\n",
       "      <td>0</td>\n",
       "      <td>0</td>\n",
       "      <td>1</td>\n",
       "      <td>0</td>\n",
       "      <td>0</td>\n",
       "      <td>0</td>\n",
       "      <td>1</td>\n",
       "      <td>1</td>\n",
       "      <td>0</td>\n",
       "      <td>1</td>\n",
       "    </tr>\n",
       "    <tr>\n",
       "      <th>1</th>\n",
       "      <td>49</td>\n",
       "      <td>279</td>\n",
       "      <td>8</td>\n",
       "      <td>1</td>\n",
       "      <td>1</td>\n",
       "      <td>2</td>\n",
       "      <td>3</td>\n",
       "      <td>61</td>\n",
       "      <td>2</td>\n",
       "      <td>2</td>\n",
       "      <td>...</td>\n",
       "      <td>0</td>\n",
       "      <td>1</td>\n",
       "      <td>0</td>\n",
       "      <td>0</td>\n",
       "      <td>0</td>\n",
       "      <td>1</td>\n",
       "      <td>0</td>\n",
       "      <td>1</td>\n",
       "      <td>1</td>\n",
       "      <td>0</td>\n",
       "    </tr>\n",
       "    <tr>\n",
       "      <th>2</th>\n",
       "      <td>37</td>\n",
       "      <td>1373</td>\n",
       "      <td>2</td>\n",
       "      <td>2</td>\n",
       "      <td>1</td>\n",
       "      <td>4</td>\n",
       "      <td>4</td>\n",
       "      <td>92</td>\n",
       "      <td>2</td>\n",
       "      <td>1</td>\n",
       "      <td>...</td>\n",
       "      <td>0</td>\n",
       "      <td>0</td>\n",
       "      <td>0</td>\n",
       "      <td>0</td>\n",
       "      <td>0</td>\n",
       "      <td>0</td>\n",
       "      <td>1</td>\n",
       "      <td>1</td>\n",
       "      <td>0</td>\n",
       "      <td>1</td>\n",
       "    </tr>\n",
       "  </tbody>\n",
       "</table>\n",
       "<p>3 rows × 55 columns</p>\n",
       "</div>"
      ],
      "text/plain": [
       "   Age  DailyRate  DistanceFromHome  Education  EmployeeCount  EmployeeNumber  \\\n",
       "0   41       1102                 1          2              1               1   \n",
       "1   49        279                 8          1              1               2   \n",
       "2   37       1373                 2          2              1               4   \n",
       "\n",
       "   EnvironmentSatisfaction  HourlyRate  JobInvolvement  JobLevel  \\\n",
       "0                        2          94               3         2   \n",
       "1                        3          61               2         2   \n",
       "2                        4          92               2         1   \n",
       "\n",
       "       ...       JobRole_Research Director  JobRole_Research Scientist  \\\n",
       "0      ...                               0                           0   \n",
       "1      ...                               0                           1   \n",
       "2      ...                               0                           0   \n",
       "\n",
       "   JobRole_Sales Executive  JobRole_Sales Representative  \\\n",
       "0                        1                             0   \n",
       "1                        0                             0   \n",
       "2                        0                             0   \n",
       "\n",
       "   MaritalStatus_Divorced  MaritalStatus_Married  MaritalStatus_Single  \\\n",
       "0                       0                      0                     1   \n",
       "1                       0                      1                     0   \n",
       "2                       0                      0                     1   \n",
       "\n",
       "   Over18_Y  OverTime_No  OverTime_Yes  \n",
       "0         1            0             1  \n",
       "1         1            1             0  \n",
       "2         1            0             1  \n",
       "\n",
       "[3 rows x 55 columns]"
      ]
     },
     "execution_count": 6,
     "metadata": {},
     "output_type": "execute_result"
    }
   ],
   "source": [
    "data_cat = pd.get_dummies(data_cat)\n",
    "data_cat.head(3)"
   ]
  },
  {
   "cell_type": "code",
   "execution_count": 7,
   "metadata": {},
   "outputs": [],
   "source": [
    "# Store the numerical features to a dataframe attrition_num\n",
    "data_num = data[numerical]"
   ]
  },
  {
   "cell_type": "code",
   "execution_count": 8,
   "metadata": {},
   "outputs": [],
   "source": [
    "# Concat the two dataframes together columnwise\n",
    "data_final = pd.concat([data_num, data_cat], axis=1)"
   ]
  },
  {
   "cell_type": "markdown",
   "metadata": {},
   "source": [
    "Here we are creating our target column by mapping employees who have left and employees that have stayed."
   ]
  },
  {
   "cell_type": "code",
   "execution_count": 9,
   "metadata": {
    "scrolled": false
   },
   "outputs": [
    {
     "data": {
      "text/plain": [
       "0    1\n",
       "1    0\n",
       "2    1\n",
       "Name: Attrition, dtype: int64"
      ]
     },
     "execution_count": 9,
     "metadata": {},
     "output_type": "execute_result"
    }
   ],
   "source": [
    "# Define a dictionary for the target mapping\n",
    "target_map = {'Yes':1, 'No':0}\n",
    "# Use the pandas apply method to numerically encode our attrition target variable\n",
    "target = data[\"Attrition\"].apply(lambda x: target_map[x])\n",
    "target.head(3)"
   ]
  },
  {
   "cell_type": "code",
   "execution_count": 10,
   "metadata": {
    "scrolled": true
   },
   "outputs": [
    {
     "data": {
      "application/vnd.plotly.v1+json": {
       "config": {
        "linkText": "Export to plot.ly",
        "plotlyServerURL": "https://plot.ly",
        "showLink": true
       },
       "data": [
        {
         "type": "bar",
         "uid": "f94cd480-7a68-49fe-9f31-cb38126ae5b5",
         "x": [
          "No",
          "Yes"
         ],
         "y": [
          1233,
          237
         ]
        }
       ],
       "layout": {}
      }
     },
     "metadata": {},
     "output_type": "display_data"
    }
   ],
   "source": [
    "attrition = [go.Bar(\n",
    "            x=data[\"Attrition\"].value_counts().index.values,\n",
    "            y= data[\"Attrition\"].value_counts().values\n",
    "    )]\n",
    "\n",
    "py.iplot(attrition, filename='basic-bar')"
   ]
  },
  {
   "cell_type": "markdown",
   "metadata": {},
   "source": [
    "We can see from the above graph that we have a bit of skewness in our data. Most of our data leans towards employees staying rather than being evenly split. We will be using an oversampling technique known as SMOTE to treat this skewness."
   ]
  },
  {
   "cell_type": "code",
   "execution_count": 11,
   "metadata": {},
   "outputs": [
    {
     "name": "stderr",
     "output_type": "stream",
     "text": [
      "C:\\Users\\Boris-Tsao\\AppData\\Local\\Continuum\\anaconda3\\lib\\site-packages\\sklearn\\model_selection\\_split.py:2179: FutureWarning:\n",
      "\n",
      "From version 0.21, test_size will always complement train_size unless both are specified.\n",
      "\n"
     ]
    }
   ],
   "source": [
    "# Import the train_test_split method\n",
    "from sklearn.model_selection import train_test_split\n",
    "from sklearn.model_selection import StratifiedShuffleSplit\n",
    "\n",
    "# Split data into train and test sets as well as for validation and testing\n",
    "X_train, X_test, y_train, y_test = train_test_split(data_final, \n",
    "                                                         target, \n",
    "                                                         train_size= 0.80,\n",
    "                                                         random_state=0);\n",
    "#train, test, target_train, target_val = StratifiedShuffleSplit(attrition_final, target, random_state=0);"
   ]
  },
  {
   "cell_type": "markdown",
   "metadata": {},
   "source": [
    "SMOTE to oversample due to the skewness in target\n",
    "\n",
    "Since we have already noted the severe imbalance in the values within the target variable, let us implement the SMOTE method in the dealing with this skewed value via the imblearn Python package.\n",
    "\n",
    "SMOTE(synthetic minority over-sampling technique) is a common technique used for oversampling when we have an imbalanced dataset. SMOTE works per the below:\n",
    "\n",
    "1. We scatter all our positive cases (in this case, our positive cases are employees leaving).\n",
    "2. We then choose a k number that would present the number of neighboring positive cases we would look at (we will take the default example in this case, we can tinker with this later on).\n",
    "3.If you want to oversample the positive class by i=3 times, then for each positive case we do the following:\n",
    "\n",
    "    We look at the k=10 nearest positive cases.\n",
    "    We randomly choose i=3 of them.\n",
    "    For each one of the 3 neighboring positive cases we have randomly chosen we add a ‘synthetic’ case somewhere between that neighboring positive case and the original positive case. In this last sentence between means within the exact straight line that passes through the 2 cases, and somewhere means the synthetic positive case is randomly placed in between."
   ]
  },
  {
   "cell_type": "code",
   "execution_count": 12,
   "metadata": {},
   "outputs": [],
   "source": [
    "from imblearn.over_sampling import SMOTE\n",
    "\n",
    "oversampler=SMOTE(random_state=0)\n",
    "X_train_smote, y_train_smote = oversampler.fit_sample(X_train,y_train)"
   ]
  },
  {
   "cell_type": "markdown",
   "metadata": {},
   "source": [
    "The below functions are used to evaluate some key metrics on our predictive modelling.\n",
    "\n",
    "1. Confusion Matrix:  This is a 2X2 matrix that helps us visualize the the performance of our algorithm. It will show the amount of true positive (model predicted positive accurately), true negative (model predicted negative accurately), false positive (model inaccurately predicted data to be positive) and false negative (model in accurately predicted data to be negative).\n",
    "\n",
    "2. Accuracy Score: Accuracy Score is the amount of true positive and true negative divided by the totals. This measures how accurately we were in predicting an employee leaving as well as employee staying.\n",
    "\n",
    "3. ROC curve: This is the receiver operating Characteristic Curve. This is a graphical plot that measures the true positive rate on the Y axis vs the false positive rate on the X axis. A line going through the middle that is represented as Y = X is equivalent to predicting out positively 50% of the time. Thus we would hopefully expect a concave curve against the Y=X line to the left for our model to predict out true positive rate accurately.\n",
    "\n",
    "4. AUC score: This is the area under the ROC curve for the our model. This related to the ROC curve and is measured as the area between our ROC curve and the Y=X. This will range between 0 to 1 with a score of 0 meaning that we have an equivalent model as flipping a coin (50% chance of getting a correct score) and 100% meaning that our model predicted accurately 100% of the time (this will mean we have done something wrong with our data and have overfitted or are using some future variable to predict our outcome).\n",
    "\n",
    "5. F1 score: Measured as 2 X (Precision X Recall) / (Precision + Recall). Where precision = true positives / total positives and recall = true positives / (true positive + false negative). \n",
    "\n",
    "There are great metrics and each have their own significance. In our model, we will be focusing on the AUC score as we want to ensure that our model is predicting out employees that leave (which is our 'positive' in this case) at a good rate - i.e. above 50%."
   ]
  },
  {
   "cell_type": "code",
   "execution_count": 13,
   "metadata": {},
   "outputs": [],
   "source": [
    "# Import model evaluation metrics\n",
    "from sklearn.metrics import confusion_matrix, accuracy_score, roc_auc_score, f1_score, roc_curve\n",
    "\n",
    "# Define model evaluation method\n",
    "def model_test(model, ytest, y_predict):\n",
    "    print('The accuracy of {} model is: {:.2f}'.format(model, accuracy_score(ytest, y_predict)))\n",
    "    print('The confusion matrix is:\\n{}'.format(confusion_matrix(ytest, y_predict)))\n",
    "    print('The auc score is: {:.2f}'.format(roc_auc_score(ytest, y_predict)))\n",
    "    print('The F1-score is: {:.2f}'.format(f1_score(ytest, y_predict)))\n",
    "\n",
    "# Define auc plotting method\n",
    "def plot_roc(model, ytest, y_predict, y_predict_prob):\n",
    "    fpr, tpr, _ = roc_curve(ytest, y_predict_prob)\n",
    "    plt.figure(figsize=(5,5))\n",
    "    plt.plot(fpr,tpr, label = 'AUC score by {}: {:.2f}'.format(model, roc_auc_score(ytest, y_predict)))\n",
    "    plt.plot([0,1],[0,1],'r--')\n",
    "    plt.xlabel('False Positive Rate')\n",
    "    plt.ylabel('True Positive Rate')\n",
    "    plt.legend(loc = 'best')\n",
    "    plt.xlim(0,1)\n",
    "    plt.ylim(0,1)"
   ]
  },
  {
   "cell_type": "markdown",
   "metadata": {},
   "source": [
    "<h3>Logistic Regression</h3>\n",
    "\n",
    "We will start with the simplest classification predictive model. This model follows closely to linear regression "
   ]
  },
  {
   "cell_type": "code",
   "execution_count": 15,
   "metadata": {},
   "outputs": [
    {
     "name": "stderr",
     "output_type": "stream",
     "text": [
      "C:\\Users\\Boris-Tsao\\AppData\\Local\\Continuum\\anaconda3\\lib\\site-packages\\sklearn\\linear_model\\logistic.py:433: FutureWarning:\n",
      "\n",
      "Default solver will be changed to 'lbfgs' in 0.22. Specify a solver to silence this warning.\n",
      "\n"
     ]
    }
   ],
   "source": [
    "from sklearn.linear_model import LogisticRegression\n",
    "\n",
    "log_reg = LogisticRegression()\n",
    "log_reg.fit(X_train_smote, y_train_smote)\n",
    "log_reg_predict = log_reg.predict(X_test)\n",
    "log_reg_predict_prob = log_reg.predict_proba(X_test)[:,1]"
   ]
  },
  {
   "cell_type": "code",
   "execution_count": 16,
   "metadata": {
    "scrolled": true
   },
   "outputs": [
    {
     "name": "stdout",
     "output_type": "stream",
     "text": [
      "The accuracy of Logistic Regression model is: 0.87\n",
      "The confusion matrix is:\n",
      "[[231  14]\n",
      " [ 25  24]]\n",
      "The auc score is: 0.72\n",
      "The F1-score is: 0.55\n"
     ]
    }
   ],
   "source": [
    "model_test('Logistic Regression', y_test, log_reg_predict)"
   ]
  },
  {
   "cell_type": "code",
   "execution_count": 17,
   "metadata": {
    "scrolled": true
   },
   "outputs": [
    {
     "data": {
      "image/png": "[encoded data removed]",
      "text/plain": [
       "<Figure size 360x360 with 1 Axes>"
      ]
     },
     "metadata": {},
     "output_type": "display_data"
    }
   ],
   "source": [
    "plot_roc('Logistic Regression ',y_test, log_reg_predict,log_reg_predict_prob)"
   ]
  },
  {
   "cell_type": "markdown",
   "metadata": {},
   "source": [
    "We can see here that our model did fairly well without any hyperparameter tuning. We were able to accurately predict out 87% of the time and our positive percentage was 72% of the time. This is a good start but let us try some other classification algorithms and see if we can do better."
   ]
  },
  {
   "cell_type": "markdown",
   "metadata": {},
   "source": [
    "<h3>Random Forest Classifier</h3>\n",
    "\n",
    "<p>Trying out a random forest classifier. This method is used with an ensemble of of decision trees. A decision tree as a standalone is known as a \"weak learner\" and is very susceptible to overfitting which will result in predictive performance being poor when it is fed new data. A random forest using multiple decision trees and does a 'voting' where it will look through multiple decision trees and will take a vote  and will take the maximum vote to ensure our data does not overfit.</p>"
   ]
  },
  {
   "cell_type": "code",
   "execution_count": 19,
   "metadata": {
    "scrolled": true
   },
   "outputs": [],
   "source": [
    "# Import the model we are using\n",
    "from sklearn.ensemble import RandomForestClassifier\n",
    "\n",
    "# Instantiate model with 1000 decision trees\n",
    "rf = RandomForestClassifier(n_estimators = 1000, random_state=42)\n",
    "rf.fit(X_train_smote, y_train_smote)\n",
    "rf_predict = rf.predict(X_test)\n",
    "rf_predict_prob = rf.predict_proba(X_test)[:,1]"
   ]
  },
  {
   "cell_type": "code",
   "execution_count": 20,
   "metadata": {
    "scrolled": true
   },
   "outputs": [
    {
     "name": "stdout",
     "output_type": "stream",
     "text": [
      "The accuracy of Random Forest model is: 0.87\n",
      "The confusion matrix is:\n",
      "[[239   6]\n",
      " [ 33  16]]\n",
      "The auc score is: 0.65\n",
      "The F1-score is: 0.45\n"
     ]
    }
   ],
   "source": [
    "model_test('Random Forest', y_test, rf_predict)"
   ]
  },
  {
   "cell_type": "code",
   "execution_count": 21,
   "metadata": {
    "scrolled": false
   },
   "outputs": [
    {
     "data": {
      "image/png": "[encoded data removed]",
      "text/plain": [
       "<Figure size 360x360 with 1 Axes>"
      ]
     },
     "metadata": {},
     "output_type": "display_data"
    }
   ],
   "source": [
    "plot_roc('Random Forest',y_test, rf_predict,rf_predict_prob)"
   ]
  },
  {
   "cell_type": "markdown",
   "metadata": {},
   "source": [
    "We can see per the above that our model predicted similar to our linear regression model. A neat feature of our random forest classifier is that we can analyze the importance of the feature and see what were strong data points used in determining whether an employee would leave or not.\n",
    "\n",
    "A visualization is seen in the below graph."
   ]
  },
  {
   "cell_type": "code",
   "execution_count": 22,
   "metadata": {},
   "outputs": [
    {
     "data": {
      "text/html": [
       "<script type=\"text/javascript\">window.PlotlyConfig = {MathJaxConfig: 'local'};</script><script type=\"text/javascript\">if (window.MathJax) {MathJax.Hub.Config({SVG: {font: \"STIX-Web\"}});}</script><script>requirejs.config({paths: { 'plotly': ['https://cdn.plot.ly/plotly-latest.min']},});if(!window._Plotly) {require(['plotly'],function(plotly) {window._Plotly=plotly;});}</script>"
      ],
      "text/vnd.plotly.v1+html": [
       "<script type=\"text/javascript\">window.PlotlyConfig = {MathJaxConfig: 'local'};</script><script type=\"text/javascript\">if (window.MathJax) {MathJax.Hub.Config({SVG: {font: \"STIX-Web\"}});}</script><script>requirejs.config({paths: { 'plotly': ['https://cdn.plot.ly/plotly-latest.min']},});if(!window._Plotly) {require(['plotly'],function(plotly) {window._Plotly=plotly;});}</script>"
      ]
     },
     "metadata": {},
     "output_type": "display_data"
    }
   ],
   "source": [
    "# Import statements required for Plotly \n",
    "import plotly.offline as py\n",
    "py.init_notebook_mode(connected=True)\n",
    "import plotly.graph_objs as go\n",
    "import plotly.tools as tls"
   ]
  },
  {
   "cell_type": "code",
   "execution_count": 23,
   "metadata": {
    "scrolled": true
   },
   "outputs": [
    {
     "data": {
      "application/vnd.plotly.v1+json": {
       "config": {
        "linkText": "Export to plot.ly",
        "plotlyServerURL": "https://plot.ly",
        "showLink": true
       },
       "data": [
        {
         "marker": {
          "color": [
           0.0186344765467668,
           0.015858975287178022,
           0.013247959747686678,
           0.00868226563337384,
           0,
           0.01641457102492538,
           0.016080403588496748,
           0.013818785037976618,
           0.011278881218602918,
           0.020113984531137972,
           0.02456328703321623,
           0.034890487516336076,
           0.0177382978557042,
           0.00807752335405277,
           0.009042835955151634,
           0.0016255021274237302,
           0.01292018206084111,
           0,
           0.028872869903227,
           0.016809933672588102,
           0.009444889724400109,
           0.01550177909628605,
           0.013944530588641538,
           0.014328984955102018,
           0.007115443927347337,
           0.01253888578427835,
           0.019684928261542865,
           0.016655736104853318,
           0.01300930119233841,
           0.008753192568369678,
           0,
           0.016550824876455834,
           0.017163369320975383,
           0.013815005059057757,
           0.013103224161827855,
           0.01871807734519676,
           0.023850107781246476,
           0.0329369838128772,
           0.017613101997936094,
           0.008338224626056122,
           0.009205088485510542,
           0.0015776716133117103,
           0.012295364205510027,
           0,
           0.032182835539168515,
           0.01613569931988751,
           0.008488781441899369,
           0.015595926968463665,
           0.014055462115308854,
           0.014483334739136705,
           0.007212048919710088,
           0.013538843277127595,
           0.006681738468533988,
           0.0029852741792492313,
           0.013849296527613946,
           0.0018420399608549865,
           0.02457781517330677,
           0.0070757824537469585,
           0.0006264389984070766,
           0.015139899893086064,
           0.0017883084732243247,
           0.023856271817593637,
           0.0016624388849596707,
           0.0021326635175090616,
           0.008652340192053017,
           0.0061161657829112885,
           0.0014866478847666443,
           0.001513265092878752,
           0.0027331247283882798,
           0.001077561493796719,
           0.0038740649096733384,
           0.000739216271204015,
           0.008627245991937083,
           0.00318951088496435,
           0.0013746518041016947,
           0.009826041235109792,
           0.01227940449427645,
           0.006585610987731151,
           0,
           0.0920768456945052,
           0.01112146429910696
          ],
          "colorscale": "Portland",
          "showscale": true,
          "size": 13,
          "sizemode": "diameter",
          "sizeref": 1
         },
         "mode": "markers",
         "text": [
          "Age",
          "DailyRate",
          "DistanceFromHome",
          "Education",
          "EmployeeCount",
          "EmployeeNumber",
          "EnvironmentSatisfaction",
          "HourlyRate",
          "JobInvolvement",
          "JobLevel",
          "JobSatisfaction",
          "MonthlyIncome",
          "MonthlyRate",
          "NumCompaniesWorked",
          "PercentSalaryHike",
          "PerformanceRating",
          "RelationshipSatisfaction",
          "StandardHours",
          "StockOptionLevel",
          "TotalWorkingYears",
          "TrainingTimesLastYear",
          "WorkLifeBalance",
          "YearsAtCompany",
          "YearsInCurrentRole",
          "YearsSinceLastPromotion",
          "YearsWithCurrManager",
          "Age",
          "DailyRate",
          "DistanceFromHome",
          "Education",
          "EmployeeCount",
          "EmployeeNumber",
          "EnvironmentSatisfaction",
          "HourlyRate",
          "JobInvolvement",
          "JobLevel",
          "JobSatisfaction",
          "MonthlyIncome",
          "MonthlyRate",
          "NumCompaniesWorked",
          "PercentSalaryHike",
          "PerformanceRating",
          "RelationshipSatisfaction",
          "StandardHours",
          "StockOptionLevel",
          "TotalWorkingYears",
          "TrainingTimesLastYear",
          "WorkLifeBalance",
          "YearsAtCompany",
          "YearsInCurrentRole",
          "YearsSinceLastPromotion",
          "YearsWithCurrManager",
          "BusinessTravel_Non-Travel",
          "BusinessTravel_Travel_Frequently",
          "BusinessTravel_Travel_Rarely",
          "Department_Human Resources",
          "Department_Research & Development",
          "Department_Sales",
          "EducationField_Human Resources",
          "EducationField_Life Sciences",
          "EducationField_Marketing",
          "EducationField_Medical",
          "EducationField_Other",
          "EducationField_Technical Degree",
          "Gender_Female",
          "Gender_Male",
          "JobRole_Healthcare Representative",
          "JobRole_Human Resources",
          "JobRole_Laboratory Technician",
          "JobRole_Manager",
          "JobRole_Manufacturing Director",
          "JobRole_Research Director",
          "JobRole_Research Scientist",
          "JobRole_Sales Executive",
          "JobRole_Sales Representative",
          "MaritalStatus_Divorced",
          "MaritalStatus_Married",
          "MaritalStatus_Single",
          "Over18_Y",
          "OverTime_No",
          "OverTime_Yes"
         ],
         "type": "scatter",
         "uid": "1fe3e5c4-e9fb-4131-a2ad-e09be7834327",
         "x": [
          "Age",
          "DailyRate",
          "DistanceFromHome",
          "Education",
          "EmployeeCount",
          "EmployeeNumber",
          "EnvironmentSatisfaction",
          "HourlyRate",
          "JobInvolvement",
          "JobLevel",
          "JobSatisfaction",
          "MonthlyIncome",
          "MonthlyRate",
          "NumCompaniesWorked",
          "PercentSalaryHike",
          "PerformanceRating",
          "RelationshipSatisfaction",
          "StandardHours",
          "StockOptionLevel",
          "TotalWorkingYears",
          "TrainingTimesLastYear",
          "WorkLifeBalance",
          "YearsAtCompany",
          "YearsInCurrentRole",
          "YearsSinceLastPromotion",
          "YearsWithCurrManager",
          "Age",
          "DailyRate",
          "DistanceFromHome",
          "Education",
          "EmployeeCount",
          "EmployeeNumber",
          "EnvironmentSatisfaction",
          "HourlyRate",
          "JobInvolvement",
          "JobLevel",
          "JobSatisfaction",
          "MonthlyIncome",
          "MonthlyRate",
          "NumCompaniesWorked",
          "PercentSalaryHike",
          "PerformanceRating",
          "RelationshipSatisfaction",
          "StandardHours",
          "StockOptionLevel",
          "TotalWorkingYears",
          "TrainingTimesLastYear",
          "WorkLifeBalance",
          "YearsAtCompany",
          "YearsInCurrentRole",
          "YearsSinceLastPromotion",
          "YearsWithCurrManager",
          "BusinessTravel_Non-Travel",
          "BusinessTravel_Travel_Frequently",
          "BusinessTravel_Travel_Rarely",
          "Department_Human Resources",
          "Department_Research & Development",
          "Department_Sales",
          "EducationField_Human Resources",
          "EducationField_Life Sciences",
          "EducationField_Marketing",
          "EducationField_Medical",
          "EducationField_Other",
          "EducationField_Technical Degree",
          "Gender_Female",
          "Gender_Male",
          "JobRole_Healthcare Representative",
          "JobRole_Human Resources",
          "JobRole_Laboratory Technician",
          "JobRole_Manager",
          "JobRole_Manufacturing Director",
          "JobRole_Research Director",
          "JobRole_Research Scientist",
          "JobRole_Sales Executive",
          "JobRole_Sales Representative",
          "MaritalStatus_Divorced",
          "MaritalStatus_Married",
          "MaritalStatus_Single",
          "Over18_Y",
          "OverTime_No",
          "OverTime_Yes"
         ],
         "y": [
          0.0186344765467668,
          0.015858975287178022,
          0.013247959747686678,
          0.00868226563337384,
          0,
          0.01641457102492538,
          0.016080403588496748,
          0.013818785037976618,
          0.011278881218602918,
          0.020113984531137972,
          0.02456328703321623,
          0.034890487516336076,
          0.0177382978557042,
          0.00807752335405277,
          0.009042835955151634,
          0.0016255021274237302,
          0.01292018206084111,
          0,
          0.028872869903227,
          0.016809933672588102,
          0.009444889724400109,
          0.01550177909628605,
          0.013944530588641538,
          0.014328984955102018,
          0.007115443927347337,
          0.01253888578427835,
          0.019684928261542865,
          0.016655736104853318,
          0.01300930119233841,
          0.008753192568369678,
          0,
          0.016550824876455834,
          0.017163369320975383,
          0.013815005059057757,
          0.013103224161827855,
          0.01871807734519676,
          0.023850107781246476,
          0.0329369838128772,
          0.017613101997936094,
          0.008338224626056122,
          0.009205088485510542,
          0.0015776716133117103,
          0.012295364205510027,
          0,
          0.032182835539168515,
          0.01613569931988751,
          0.008488781441899369,
          0.015595926968463665,
          0.014055462115308854,
          0.014483334739136705,
          0.007212048919710088,
          0.013538843277127595,
          0.006681738468533988,
          0.0029852741792492313,
          0.013849296527613946,
          0.0018420399608549865,
          0.02457781517330677,
          0.0070757824537469585,
          0.0006264389984070766,
          0.015139899893086064,
          0.0017883084732243247,
          0.023856271817593637,
          0.0016624388849596707,
          0.0021326635175090616,
          0.008652340192053017,
          0.0061161657829112885,
          0.0014866478847666443,
          0.001513265092878752,
          0.0027331247283882798,
          0.001077561493796719,
          0.0038740649096733384,
          0.000739216271204015,
          0.008627245991937083,
          0.00318951088496435,
          0.0013746518041016947,
          0.009826041235109792,
          0.01227940449427645,
          0.006585610987731151,
          0,
          0.0920768456945052,
          0.01112146429910696
         ]
        }
       ],
       "layout": {
        "autosize": true,
        "hovermode": "closest",
        "showlegend": false,
        "title": "Random Forest Feature Importance",
        "xaxis": {
         "showgrid": false,
         "showline": false,
         "ticklen": 5,
         "zeroline": false
        },
        "yaxis": {
         "gridwidth": 2,
         "showgrid": false,
         "ticklen": 5,
         "title": "Feature Importance",
         "zeroline": false
        }
       }
      },
      "text/html": [
       "<div id=\"531e9e37-4057-4169-a13f-19e14a8d7ac8\" style=\"height: 525px; width: 100%;\" class=\"plotly-graph-div\"></div><script type=\"text/javascript\">require([\"plotly\"], function(Plotly) { window.PLOTLYENV=window.PLOTLYENV || {};window.PLOTLYENV.BASE_URL=\"https://plot.ly\";Plotly.newPlot(\"531e9e37-4057-4169-a13f-19e14a8d7ac8\", [{\"marker\": {\"color\": [0.0186344765467668, 0.015858975287178022, 0.013247959747686678, 0.00868226563337384, 0.0, 0.01641457102492538, 0.016080403588496748, 0.013818785037976618, 0.011278881218602918, 0.020113984531137972, 0.02456328703321623, 0.034890487516336076, 0.0177382978557042, 0.00807752335405277, 0.009042835955151634, 0.0016255021274237302, 0.01292018206084111, 0.0, 0.028872869903227, 0.016809933672588102, 0.009444889724400109, 0.01550177909628605, 0.013944530588641538, 0.014328984955102018, 0.007115443927347337, 0.01253888578427835, 0.019684928261542865, 0.016655736104853318, 0.01300930119233841, 0.008753192568369678, 0.0, 0.016550824876455834, 0.017163369320975383, 0.013815005059057757, 0.013103224161827855, 0.01871807734519676, 0.023850107781246476, 0.0329369838128772, 0.017613101997936094, 0.008338224626056122, 0.009205088485510542, 0.0015776716133117103, 0.012295364205510027, 0.0, 0.032182835539168515, 0.01613569931988751, 0.008488781441899369, 0.015595926968463665, 0.014055462115308854, 0.014483334739136705, 0.007212048919710088, 0.013538843277127595, 0.006681738468533988, 0.0029852741792492313, 0.013849296527613946, 0.0018420399608549865, 0.02457781517330677, 0.0070757824537469585, 0.0006264389984070766, 0.015139899893086064, 0.0017883084732243247, 0.023856271817593637, 0.0016624388849596707, 0.0021326635175090616, 0.008652340192053017, 0.0061161657829112885, 0.0014866478847666443, 0.001513265092878752, 0.0027331247283882798, 0.001077561493796719, 0.0038740649096733384, 0.000739216271204015, 0.008627245991937083, 0.00318951088496435, 0.0013746518041016947, 0.009826041235109792, 0.01227940449427645, 0.006585610987731151, 0.0, 0.0920768456945052, 0.01112146429910696], \"colorscale\": \"Portland\", \"showscale\": true, \"size\": 13, \"sizemode\": \"diameter\", \"sizeref\": 1}, \"mode\": \"markers\", \"text\": [\"Age\", \"DailyRate\", \"DistanceFromHome\", \"Education\", \"EmployeeCount\", \"EmployeeNumber\", \"EnvironmentSatisfaction\", \"HourlyRate\", \"JobInvolvement\", \"JobLevel\", \"JobSatisfaction\", \"MonthlyIncome\", \"MonthlyRate\", \"NumCompaniesWorked\", \"PercentSalaryHike\", \"PerformanceRating\", \"RelationshipSatisfaction\", \"StandardHours\", \"StockOptionLevel\", \"TotalWorkingYears\", \"TrainingTimesLastYear\", \"WorkLifeBalance\", \"YearsAtCompany\", \"YearsInCurrentRole\", \"YearsSinceLastPromotion\", \"YearsWithCurrManager\", \"Age\", \"DailyRate\", \"DistanceFromHome\", \"Education\", \"EmployeeCount\", \"EmployeeNumber\", \"EnvironmentSatisfaction\", \"HourlyRate\", \"JobInvolvement\", \"JobLevel\", \"JobSatisfaction\", \"MonthlyIncome\", \"MonthlyRate\", \"NumCompaniesWorked\", \"PercentSalaryHike\", \"PerformanceRating\", \"RelationshipSatisfaction\", \"StandardHours\", \"StockOptionLevel\", \"TotalWorkingYears\", \"TrainingTimesLastYear\", \"WorkLifeBalance\", \"YearsAtCompany\", \"YearsInCurrentRole\", \"YearsSinceLastPromotion\", \"YearsWithCurrManager\", \"BusinessTravel_Non-Travel\", \"BusinessTravel_Travel_Frequently\", \"BusinessTravel_Travel_Rarely\", \"Department_Human Resources\", \"Department_Research & Development\", \"Department_Sales\", \"EducationField_Human Resources\", \"EducationField_Life Sciences\", \"EducationField_Marketing\", \"EducationField_Medical\", \"EducationField_Other\", \"EducationField_Technical Degree\", \"Gender_Female\", \"Gender_Male\", \"JobRole_Healthcare Representative\", \"JobRole_Human Resources\", \"JobRole_Laboratory Technician\", \"JobRole_Manager\", \"JobRole_Manufacturing Director\", \"JobRole_Research Director\", \"JobRole_Research Scientist\", \"JobRole_Sales Executive\", \"JobRole_Sales Representative\", \"MaritalStatus_Divorced\", \"MaritalStatus_Married\", \"MaritalStatus_Single\", \"Over18_Y\", \"OverTime_No\", \"OverTime_Yes\"], \"x\": [\"Age\", \"DailyRate\", \"DistanceFromHome\", \"Education\", \"EmployeeCount\", \"EmployeeNumber\", \"EnvironmentSatisfaction\", \"HourlyRate\", \"JobInvolvement\", \"JobLevel\", \"JobSatisfaction\", \"MonthlyIncome\", \"MonthlyRate\", \"NumCompaniesWorked\", \"PercentSalaryHike\", \"PerformanceRating\", \"RelationshipSatisfaction\", \"StandardHours\", \"StockOptionLevel\", \"TotalWorkingYears\", \"TrainingTimesLastYear\", \"WorkLifeBalance\", \"YearsAtCompany\", \"YearsInCurrentRole\", \"YearsSinceLastPromotion\", \"YearsWithCurrManager\", \"Age\", \"DailyRate\", \"DistanceFromHome\", \"Education\", \"EmployeeCount\", \"EmployeeNumber\", \"EnvironmentSatisfaction\", \"HourlyRate\", \"JobInvolvement\", \"JobLevel\", \"JobSatisfaction\", \"MonthlyIncome\", \"MonthlyRate\", \"NumCompaniesWorked\", \"PercentSalaryHike\", \"PerformanceRating\", \"RelationshipSatisfaction\", \"StandardHours\", \"StockOptionLevel\", \"TotalWorkingYears\", \"TrainingTimesLastYear\", \"WorkLifeBalance\", \"YearsAtCompany\", \"YearsInCurrentRole\", \"YearsSinceLastPromotion\", \"YearsWithCurrManager\", \"BusinessTravel_Non-Travel\", \"BusinessTravel_Travel_Frequently\", \"BusinessTravel_Travel_Rarely\", \"Department_Human Resources\", \"Department_Research & Development\", \"Department_Sales\", \"EducationField_Human Resources\", \"EducationField_Life Sciences\", \"EducationField_Marketing\", \"EducationField_Medical\", \"EducationField_Other\", \"EducationField_Technical Degree\", \"Gender_Female\", \"Gender_Male\", \"JobRole_Healthcare Representative\", \"JobRole_Human Resources\", \"JobRole_Laboratory Technician\", \"JobRole_Manager\", \"JobRole_Manufacturing Director\", \"JobRole_Research Director\", \"JobRole_Research Scientist\", \"JobRole_Sales Executive\", \"JobRole_Sales Representative\", \"MaritalStatus_Divorced\", \"MaritalStatus_Married\", \"MaritalStatus_Single\", \"Over18_Y\", \"OverTime_No\", \"OverTime_Yes\"], \"y\": [0.0186344765467668, 0.015858975287178022, 0.013247959747686678, 0.00868226563337384, 0.0, 0.01641457102492538, 0.016080403588496748, 0.013818785037976618, 0.011278881218602918, 0.020113984531137972, 0.02456328703321623, 0.034890487516336076, 0.0177382978557042, 0.00807752335405277, 0.009042835955151634, 0.0016255021274237302, 0.01292018206084111, 0.0, 0.028872869903227, 0.016809933672588102, 0.009444889724400109, 0.01550177909628605, 0.013944530588641538, 0.014328984955102018, 0.007115443927347337, 0.01253888578427835, 0.019684928261542865, 0.016655736104853318, 0.01300930119233841, 0.008753192568369678, 0.0, 0.016550824876455834, 0.017163369320975383, 0.013815005059057757, 0.013103224161827855, 0.01871807734519676, 0.023850107781246476, 0.0329369838128772, 0.017613101997936094, 0.008338224626056122, 0.009205088485510542, 0.0015776716133117103, 0.012295364205510027, 0.0, 0.032182835539168515, 0.01613569931988751, 0.008488781441899369, 0.015595926968463665, 0.014055462115308854, 0.014483334739136705, 0.007212048919710088, 0.013538843277127595, 0.006681738468533988, 0.0029852741792492313, 0.013849296527613946, 0.0018420399608549865, 0.02457781517330677, 0.0070757824537469585, 0.0006264389984070766, 0.015139899893086064, 0.0017883084732243247, 0.023856271817593637, 0.0016624388849596707, 0.0021326635175090616, 0.008652340192053017, 0.0061161657829112885, 0.0014866478847666443, 0.001513265092878752, 0.0027331247283882798, 0.001077561493796719, 0.0038740649096733384, 0.000739216271204015, 0.008627245991937083, 0.00318951088496435, 0.0013746518041016947, 0.009826041235109792, 0.01227940449427645, 0.006585610987731151, 0.0, 0.0920768456945052, 0.01112146429910696], \"type\": \"scatter\", \"uid\": \"1fe3e5c4-e9fb-4131-a2ad-e09be7834327\"}], {\"autosize\": true, \"hovermode\": \"closest\", \"showlegend\": false, \"title\": \"Random Forest Feature Importance\", \"xaxis\": {\"showgrid\": false, \"showline\": false, \"ticklen\": 5, \"zeroline\": false}, \"yaxis\": {\"gridwidth\": 2, \"showgrid\": false, \"ticklen\": 5, \"title\": \"Feature Importance\", \"zeroline\": false}}, {\"showLink\": true, \"linkText\": \"Export to plot.ly\", \"plotlyServerURL\": \"https://plot.ly\"})});</script><script type=\"text/javascript\">window.addEventListener(\"resize\", function(){window._Plotly.Plots.resize(document.getElementById(\"531e9e37-4057-4169-a13f-19e14a8d7ac8\"));});</script>"
      ],
      "text/vnd.plotly.v1+html": [
       "<div id=\"531e9e37-4057-4169-a13f-19e14a8d7ac8\" style=\"height: 525px; width: 100%;\" class=\"plotly-graph-div\"></div><script type=\"text/javascript\">require([\"plotly\"], function(Plotly) { window.PLOTLYENV=window.PLOTLYENV || {};window.PLOTLYENV.BASE_URL=\"https://plot.ly\";Plotly.newPlot(\"531e9e37-4057-4169-a13f-19e14a8d7ac8\", [{\"marker\": {\"color\": [0.0186344765467668, 0.015858975287178022, 0.013247959747686678, 0.00868226563337384, 0.0, 0.01641457102492538, 0.016080403588496748, 0.013818785037976618, 0.011278881218602918, 0.020113984531137972, 0.02456328703321623, 0.034890487516336076, 0.0177382978557042, 0.00807752335405277, 0.009042835955151634, 0.0016255021274237302, 0.01292018206084111, 0.0, 0.028872869903227, 0.016809933672588102, 0.009444889724400109, 0.01550177909628605, 0.013944530588641538, 0.014328984955102018, 0.007115443927347337, 0.01253888578427835, 0.019684928261542865, 0.016655736104853318, 0.01300930119233841, 0.008753192568369678, 0.0, 0.016550824876455834, 0.017163369320975383, 0.013815005059057757, 0.013103224161827855, 0.01871807734519676, 0.023850107781246476, 0.0329369838128772, 0.017613101997936094, 0.008338224626056122, 0.009205088485510542, 0.0015776716133117103, 0.012295364205510027, 0.0, 0.032182835539168515, 0.01613569931988751, 0.008488781441899369, 0.015595926968463665, 0.014055462115308854, 0.014483334739136705, 0.007212048919710088, 0.013538843277127595, 0.006681738468533988, 0.0029852741792492313, 0.013849296527613946, 0.0018420399608549865, 0.02457781517330677, 0.0070757824537469585, 0.0006264389984070766, 0.015139899893086064, 0.0017883084732243247, 0.023856271817593637, 0.0016624388849596707, 0.0021326635175090616, 0.008652340192053017, 0.0061161657829112885, 0.0014866478847666443, 0.001513265092878752, 0.0027331247283882798, 0.001077561493796719, 0.0038740649096733384, 0.000739216271204015, 0.008627245991937083, 0.00318951088496435, 0.0013746518041016947, 0.009826041235109792, 0.01227940449427645, 0.006585610987731151, 0.0, 0.0920768456945052, 0.01112146429910696], \"colorscale\": \"Portland\", \"showscale\": true, \"size\": 13, \"sizemode\": \"diameter\", \"sizeref\": 1}, \"mode\": \"markers\", \"text\": [\"Age\", \"DailyRate\", \"DistanceFromHome\", \"Education\", \"EmployeeCount\", \"EmployeeNumber\", \"EnvironmentSatisfaction\", \"HourlyRate\", \"JobInvolvement\", \"JobLevel\", \"JobSatisfaction\", \"MonthlyIncome\", \"MonthlyRate\", \"NumCompaniesWorked\", \"PercentSalaryHike\", \"PerformanceRating\", \"RelationshipSatisfaction\", \"StandardHours\", \"StockOptionLevel\", \"TotalWorkingYears\", \"TrainingTimesLastYear\", \"WorkLifeBalance\", \"YearsAtCompany\", \"YearsInCurrentRole\", \"YearsSinceLastPromotion\", \"YearsWithCurrManager\", \"Age\", \"DailyRate\", \"DistanceFromHome\", \"Education\", \"EmployeeCount\", \"EmployeeNumber\", \"EnvironmentSatisfaction\", \"HourlyRate\", \"JobInvolvement\", \"JobLevel\", \"JobSatisfaction\", \"MonthlyIncome\", \"MonthlyRate\", \"NumCompaniesWorked\", \"PercentSalaryHike\", \"PerformanceRating\", \"RelationshipSatisfaction\", \"StandardHours\", \"StockOptionLevel\", \"TotalWorkingYears\", \"TrainingTimesLastYear\", \"WorkLifeBalance\", \"YearsAtCompany\", \"YearsInCurrentRole\", \"YearsSinceLastPromotion\", \"YearsWithCurrManager\", \"BusinessTravel_Non-Travel\", \"BusinessTravel_Travel_Frequently\", \"BusinessTravel_Travel_Rarely\", \"Department_Human Resources\", \"Department_Research & Development\", \"Department_Sales\", \"EducationField_Human Resources\", \"EducationField_Life Sciences\", \"EducationField_Marketing\", \"EducationField_Medical\", \"EducationField_Other\", \"EducationField_Technical Degree\", \"Gender_Female\", \"Gender_Male\", \"JobRole_Healthcare Representative\", \"JobRole_Human Resources\", \"JobRole_Laboratory Technician\", \"JobRole_Manager\", \"JobRole_Manufacturing Director\", \"JobRole_Research Director\", \"JobRole_Research Scientist\", \"JobRole_Sales Executive\", \"JobRole_Sales Representative\", \"MaritalStatus_Divorced\", \"MaritalStatus_Married\", \"MaritalStatus_Single\", \"Over18_Y\", \"OverTime_No\", \"OverTime_Yes\"], \"x\": [\"Age\", \"DailyRate\", \"DistanceFromHome\", \"Education\", \"EmployeeCount\", \"EmployeeNumber\", \"EnvironmentSatisfaction\", \"HourlyRate\", \"JobInvolvement\", \"JobLevel\", \"JobSatisfaction\", \"MonthlyIncome\", \"MonthlyRate\", \"NumCompaniesWorked\", \"PercentSalaryHike\", \"PerformanceRating\", \"RelationshipSatisfaction\", \"StandardHours\", \"StockOptionLevel\", \"TotalWorkingYears\", \"TrainingTimesLastYear\", \"WorkLifeBalance\", \"YearsAtCompany\", \"YearsInCurrentRole\", \"YearsSinceLastPromotion\", \"YearsWithCurrManager\", \"Age\", \"DailyRate\", \"DistanceFromHome\", \"Education\", \"EmployeeCount\", \"EmployeeNumber\", \"EnvironmentSatisfaction\", \"HourlyRate\", \"JobInvolvement\", \"JobLevel\", \"JobSatisfaction\", \"MonthlyIncome\", \"MonthlyRate\", \"NumCompaniesWorked\", \"PercentSalaryHike\", \"PerformanceRating\", \"RelationshipSatisfaction\", \"StandardHours\", \"StockOptionLevel\", \"TotalWorkingYears\", \"TrainingTimesLastYear\", \"WorkLifeBalance\", \"YearsAtCompany\", \"YearsInCurrentRole\", \"YearsSinceLastPromotion\", \"YearsWithCurrManager\", \"BusinessTravel_Non-Travel\", \"BusinessTravel_Travel_Frequently\", \"BusinessTravel_Travel_Rarely\", \"Department_Human Resources\", \"Department_Research & Development\", \"Department_Sales\", \"EducationField_Human Resources\", \"EducationField_Life Sciences\", \"EducationField_Marketing\", \"EducationField_Medical\", \"EducationField_Other\", \"EducationField_Technical Degree\", \"Gender_Female\", \"Gender_Male\", \"JobRole_Healthcare Representative\", \"JobRole_Human Resources\", \"JobRole_Laboratory Technician\", \"JobRole_Manager\", \"JobRole_Manufacturing Director\", \"JobRole_Research Director\", \"JobRole_Research Scientist\", \"JobRole_Sales Executive\", \"JobRole_Sales Representative\", \"MaritalStatus_Divorced\", \"MaritalStatus_Married\", \"MaritalStatus_Single\", \"Over18_Y\", \"OverTime_No\", \"OverTime_Yes\"], \"y\": [0.0186344765467668, 0.015858975287178022, 0.013247959747686678, 0.00868226563337384, 0.0, 0.01641457102492538, 0.016080403588496748, 0.013818785037976618, 0.011278881218602918, 0.020113984531137972, 0.02456328703321623, 0.034890487516336076, 0.0177382978557042, 0.00807752335405277, 0.009042835955151634, 0.0016255021274237302, 0.01292018206084111, 0.0, 0.028872869903227, 0.016809933672588102, 0.009444889724400109, 0.01550177909628605, 0.013944530588641538, 0.014328984955102018, 0.007115443927347337, 0.01253888578427835, 0.019684928261542865, 0.016655736104853318, 0.01300930119233841, 0.008753192568369678, 0.0, 0.016550824876455834, 0.017163369320975383, 0.013815005059057757, 0.013103224161827855, 0.01871807734519676, 0.023850107781246476, 0.0329369838128772, 0.017613101997936094, 0.008338224626056122, 0.009205088485510542, 0.0015776716133117103, 0.012295364205510027, 0.0, 0.032182835539168515, 0.01613569931988751, 0.008488781441899369, 0.015595926968463665, 0.014055462115308854, 0.014483334739136705, 0.007212048919710088, 0.013538843277127595, 0.006681738468533988, 0.0029852741792492313, 0.013849296527613946, 0.0018420399608549865, 0.02457781517330677, 0.0070757824537469585, 0.0006264389984070766, 0.015139899893086064, 0.0017883084732243247, 0.023856271817593637, 0.0016624388849596707, 0.0021326635175090616, 0.008652340192053017, 0.0061161657829112885, 0.0014866478847666443, 0.001513265092878752, 0.0027331247283882798, 0.001077561493796719, 0.0038740649096733384, 0.000739216271204015, 0.008627245991937083, 0.00318951088496435, 0.0013746518041016947, 0.009826041235109792, 0.01227940449427645, 0.006585610987731151, 0.0, 0.0920768456945052, 0.01112146429910696], \"type\": \"scatter\", \"uid\": \"1fe3e5c4-e9fb-4131-a2ad-e09be7834327\"}], {\"autosize\": true, \"hovermode\": \"closest\", \"showlegend\": false, \"title\": \"Random Forest Feature Importance\", \"xaxis\": {\"showgrid\": false, \"showline\": false, \"ticklen\": 5, \"zeroline\": false}, \"yaxis\": {\"gridwidth\": 2, \"showgrid\": false, \"ticklen\": 5, \"title\": \"Feature Importance\", \"zeroline\": false}}, {\"showLink\": true, \"linkText\": \"Export to plot.ly\", \"plotlyServerURL\": \"https://plot.ly\"})});</script><script type=\"text/javascript\">window.addEventListener(\"resize\", function(){window._Plotly.Plots.resize(document.getElementById(\"531e9e37-4057-4169-a13f-19e14a8d7ac8\"));});</script>"
      ]
     },
     "metadata": {},
     "output_type": "display_data"
    }
   ],
   "source": [
    "# Scatter plot \n",
    "trace = go.Scatter(\n",
    "    y = rf.feature_importances_,\n",
    "    x = data_final.columns.values,\n",
    "    mode='markers',\n",
    "    marker=dict(\n",
    "        sizemode = 'diameter',\n",
    "        sizeref = 1,\n",
    "        size = 13,\n",
    "        #size= rf.feature_importances_,\n",
    "        #color = np.random.randn(500), #set color equal to a variable\n",
    "        color = rf.feature_importances_,\n",
    "        colorscale='Portland',\n",
    "        showscale=True\n",
    "    ),\n",
    "    text = data_final.columns.values\n",
    ")\n",
    "data = [trace]\n",
    "\n",
    "layout= go.Layout(\n",
    "    autosize= True,\n",
    "    title= 'Random Forest Feature Importance',\n",
    "    hovermode= 'closest',\n",
    "     xaxis= dict(\n",
    "         ticklen= 5,\n",
    "         showgrid=False,\n",
    "        zeroline=False,\n",
    "        showline=False\n",
    "     ),\n",
    "    yaxis=dict(\n",
    "        title= 'Feature Importance',\n",
    "        showgrid=False,\n",
    "        zeroline=False,\n",
    "        ticklen= 5,\n",
    "        gridwidth= 2\n",
    "    ),\n",
    "    showlegend= False\n",
    ")\n",
    "fig = go.Figure(data=data, layout=layout)\n",
    "py.iplot(fig,filename='scatter2010')"
   ]
  },
  {
   "cell_type": "markdown",
   "metadata": {},
   "source": [
    "We can see here that a highly important feature was employees who were not paid OT. The next highest features were monthly income and stock options. These can be used to explain to our stake holders what we need to investigate further."
   ]
  },
  {
   "cell_type": "markdown",
   "metadata": {},
   "source": [
    "<h3> Gradient Boosting Classifier </h3>\n",
    "\n",
    "Gradient boosting is similar to random forest classifier. However, the key difference is that gradient boosting uses decision trees one at a time and each new tree helps correct errors made by the previously trained tree. Random forest will train each tree independently/simultaneously and will make be less proned to overfitting. None the less, this is another algorithm to test out."
   ]
  },
  {
   "cell_type": "code",
   "execution_count": 24,
   "metadata": {},
   "outputs": [],
   "source": [
    "from sklearn.ensemble import GradientBoostingClassifier"
   ]
  },
  {
   "cell_type": "code",
   "execution_count": 26,
   "metadata": {},
   "outputs": [],
   "source": [
    "gb = GradientBoostingClassifier()\n",
    "gb.fit(X_train_smote, y_train_smote)\n",
    "gb_predict = gb.predict(X_test)\n",
    "gb_predict_prob = gb.predict_proba(X_test)[:,1]"
   ]
  },
  {
   "cell_type": "code",
   "execution_count": 27,
   "metadata": {
    "scrolled": true
   },
   "outputs": [
    {
     "name": "stdout",
     "output_type": "stream",
     "text": [
      "The accuracy of Gradient Boosting model is: 0.86\n",
      "The confusion matrix is:\n",
      "[[236   9]\n",
      " [ 32  17]]\n",
      "The auc score is: 0.66\n",
      "The F1-score is: 0.45\n"
     ]
    }
   ],
   "source": [
    "model_test('Gradient Boosting', y_test, gb_predict)"
   ]
  },
  {
   "cell_type": "code",
   "execution_count": 28,
   "metadata": {
    "scrolled": false
   },
   "outputs": [
    {
     "data": {
      "image/png": "[encoded data removed]",
      "text/plain": [
       "<Figure size 360x360 with 1 Axes>"
      ]
     },
     "metadata": {},
     "output_type": "display_data"
    }
   ],
   "source": [
    "plot_roc('Gradient Boosting', y_test, gb_predict, gb_predict_prob)"
   ]
  },
  {
   "cell_type": "markdown",
   "metadata": {},
   "source": [
    "We can see here that our model performed slightly weaker than our random forest classifier. Thus we will be taking the random forest classifier and tune the parameters and see if we can get a better model."
   ]
  },
  {
   "cell_type": "markdown",
   "metadata": {},
   "source": [
    "<h3>Tuning our model</h3>\n",
    "\n",
    "We have chosen our random forest classifier as our model to go with for hyperparameter tuning. A key note is that the model will learn what parameters are best for prediction, however, hyperparameters (in this case, an example would be the amount of decision trees, how deep the trees should go, etc.) are seleted by data scientists in advance.  There are several wasy of hyperparameter tuning:\n",
    "\n",
    "1. Manual - this is based on intuition/experience/guessing. We would iterate through this process until we run out of patience or are happy with our results.\n",
    "2. Grid Search - we set up a grid of hyperparameter values and work through each combination, train the model and score on the validation data. We would test every single combination of hyper parameters which would be very inefficient.\n",
    "3. Random search - set up a grid of hyperparameter values and select random combinations to train the model and score. The number of search iterations is set based on time/resources.\n",
    "4. Automated Hyperparameter Tuning - use methods such as gradient descent, Bayesian Optimization, or evolutionary algorithms to conduct a guided search for the best hyperparameters.\n",
    "\n",
    "Typically we would start with a wide array of random search per method 3. For example, we would see if a max depth of 5 layers is enough in our random forest or if we would need a max depth of 20. Afterwards, we would use the grid search method to narrow it down - example being if the random search came up with a max depth of 20, we could test if we would need 18, 19, 20, 21, 22 as the max depth.\n",
    "\n",
    "As we do not have time for grid search (and it is very similar to random gridsearch), we will only be implementing the random search."
   ]
  },
  {
   "cell_type": "code",
   "execution_count": 30,
   "metadata": {},
   "outputs": [],
   "source": [
    "rf_randomsearch = RandomForestClassifier()"
   ]
  },
  {
   "cell_type": "code",
   "execution_count": 31,
   "metadata": {},
   "outputs": [],
   "source": [
    "from sklearn.model_selection import RandomizedSearchCV\n",
    "from scipy.stats import randint as sp_randint\n",
    "# parameters for GridSearchCV\n",
    "# specify parameters and distributions to sample from\n",
    "param_dist = {\"n_estimators\": [100, 1000, 2000, 3000],\n",
    "            \"max_depth\": [3, 5, 10, 20],\n",
    "              \"max_features\": sp_randint(1, 11),\n",
    "              \"min_samples_split\": sp_randint(2, 11),\n",
    "              \"min_samples_leaf\": sp_randint(1, 11),\n",
    "              \"bootstrap\": [True, False]\n",
    "             }\n",
    "# run randomized search\n",
    "n_iter_search = 20\n",
    "random_search = RandomizedSearchCV(rf_randomsearch, param_distributions=param_dist,\n",
    "                                   n_iter=n_iter_search)"
   ]
  },
  {
   "cell_type": "code",
   "execution_count": 33,
   "metadata": {
    "scrolled": true
   },
   "outputs": [
    {
     "name": "stderr",
     "output_type": "stream",
     "text": [
      "C:\\Users\\Boris-Tsao\\AppData\\Local\\Continuum\\anaconda3\\lib\\site-packages\\sklearn\\model_selection\\_split.py:2053: FutureWarning:\n",
      "\n",
      "You should specify a value for 'cv' instead of relying on the default value. The default value will change from 3 to 5 in version 0.22.\n",
      "\n"
     ]
    }
   ],
   "source": [
    "random_search.fit(X_train_smote, y_train_smote)\n",
    "random_search_predict = random_search.predict(X_test)\n",
    "random_search_predict_prob = random_search.predict_proba(X_test)[:,1]"
   ]
  },
  {
   "cell_type": "code",
   "execution_count": 34,
   "metadata": {
    "scrolled": false
   },
   "outputs": [
    {
     "name": "stdout",
     "output_type": "stream",
     "text": [
      "The accuracy of Tuned Random Forest Classifier model is: 0.87\n",
      "The confusion matrix is:\n",
      "[[237   8]\n",
      " [ 30  19]]\n",
      "The auc score is: 0.68\n",
      "The F1-score is: 0.50\n"
     ]
    }
   ],
   "source": [
    "model_test('Tuned Random Forest Classifier', y_test, random_search_predict)"
   ]
  },
  {
   "cell_type": "code",
   "execution_count": 35,
   "metadata": {
    "scrolled": true
   },
   "outputs": [
    {
     "data": {
      "image/png": "[encoded data removed]",
      "text/plain": [
       "<Figure size 360x360 with 1 Axes>"
      ]
     },
     "metadata": {},
     "output_type": "display_data"
    }
   ],
   "source": [
    "plot_roc('Tuned Random Forest Classifier', y_test, random_search_predict, random_search_predict_prob)"
   ]
  },
  {
   "cell_type": "markdown",
   "metadata": {},
   "source": [
    "We can see from our hypertuned parameter, we were able to perform slightly better with an AUC of 68% with roughly the same accuracy overall."
   ]
  },
  {
   "cell_type": "markdown",
   "metadata": {},
   "source": [
    "<h3>Conclusion</h3>\n",
    "\n",
    "We have conducted a pipeline for predicting emplopyee attrition. We were able to train aour model and returned 86% accuracy. We can use our model now on a monthly or bi-annual basis to see which employees are at risk of leaving and use our model to dig into whether they are overtime eligible and who are top performers to try and persuade them to stay within the company.\n",
    "\n",
    "Although we were able to predict this out, we can perform more feature engineering to get more out of our data. We can also talk more with stakeholders to interpret our results and gather more data and more intuition on how we can use findings."
   ]
  }
 ],
 "metadata": {
  "kernelspec": {
   "display_name": "Python 3",
   "language": "python",
   "name": "python3"
  },
  "language_info": {
   "codemirror_mode": {
    "name": "ipython",
    "version": 3
   },
   "file_extension": ".py",
   "mimetype": "text/x-python",
   "name": "python",
   "nbconvert_exporter": "python",
   "pygments_lexer": "ipython3",
   "version": "3.6.5"
  }
 },
 "nbformat": 4,
 "nbformat_minor": 2
}
